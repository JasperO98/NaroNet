{
  "nbformat": 4,
  "nbformat_minor": 0,
  "metadata": {
    "colab": {
      "provenance": []
    },
    "kernelspec": {
      "name": "python3",
      "display_name": "Python 3"
    },
    "language_info": {
      "name": "python"
    }
  },
  "cells": [
    {
      "cell_type": "code",
      "source": [
        "from __future__ import print_function # Python 2/3 compatibility\n",
        "import os\n",
        "import glob\n",
        "import numpy as np\n",
        "from PIL import Image\n",
        "import tifffile\n",
        "from tifffile import imwrite\n",
        "import numpy\n",
        "from skimage import io\n",
        "import matplotlib.pyplot as plt\n",
        "import pywt\n",
        "\n",
        "from skimage import (\n",
        "    data, restoration, util\n",
        ")"
      ],
      "metadata": {
        "id": "hOYbo8jbKCtq"
      },
      "execution_count": null,
      "outputs": []
    },
    {
      "cell_type": "code",
      "source": [
        "def get_scaled_prop(max_values):\n",
        "    \"\"\"\n",
        "    Calculates the proportion of each channel based on the provided max_values and rounds it to 3 decimal places.\n",
        "\n",
        "    Parameters:\n",
        "        max_values (list or tuple): A list or tuple containing the maximum values for each channel.\n",
        "\n",
        "    Returns:\n",
        "        list: A list containing the proportion of each channel, rounded to 3 decimal places.\n",
        "    \"\"\"\n",
        "    # Ensure max_values is a list or tuple and has exactly 3 elements for the RGB channels.\n",
        "    if not (isinstance(max_values, (list, tuple)) and len(max_values) == 3):\n",
        "        raise ValueError(\"max_values must be a list or tuple with exactly 3 elements.\")\n",
        "\n",
        "    # Calculate the sum of max_values to get the normalization factor.\n",
        "    total = sum(max_values)\n",
        "\n",
        "    # Avoid division by zero by returning equal proportions if total is 0.\n",
        "    if total == 0:\n",
        "        return [1/3, 1/3, 1/3]\n",
        "\n",
        "    # Calculate the proportion of each channel, round to 3 decimal places and return the results.\n",
        "    proportions = [round(val / total, 3) for val in max_values]\n",
        "    return proportions\n",
        "\n",
        "#takes input a 3D image with RGB channels\n",
        "#return a list of length 3 with the maximum value for each input channel\n",
        "#it can be easily changed to mean if required\n",
        "def getmaxes(marker):\n",
        "    maxes = []\n",
        "    for i in range(3):\n",
        "        cr_channel = marker[:, :, i]\n",
        "        maxes.append(np.max(cr_channel))\n",
        "\n",
        "    return maxes\n",
        "\n",
        "def convert_to_greyscale(image, weights):\n",
        "    # Define the weights\n",
        "    weights = np.array(weights)\n",
        "\n",
        "    # Calculate the weighted sum along the last axis (color channels)\n",
        "    greyscale_image = np.dot(image, weights)\n",
        "\n",
        "    # Optional: Convert to desired dtype (if not 'float')\n",
        "    greyscale_image = greyscale_image.astype(np.uint8)\n",
        "\n",
        "    return greyscale_image"
      ],
      "metadata": {
        "id": "AyUVmzZaKD3Z"
      },
      "execution_count": null,
      "outputs": []
    },
    {
      "cell_type": "code",
      "source": [
        "#converting a whole folder D2\n",
        "current_directory = \"\"\n",
        "name = 0\n",
        "# Iterate through all files in the directory\n",
        "for filename in os.listdir(current_directory):\n",
        "    # Create a full file path\n",
        "    cr_img = io.imread(current_directory+'/'+filename)\n",
        "    gray_markers = []\n",
        "    for marker in range(6):\n",
        "        cr_marker = cr_img[marker]\n",
        "        maxes = getmaxes(cr_marker)\n",
        "        prop = get_scaled_prop(maxes)\n",
        "        gray_marker = convert_to_greyscale(cr_marker, prop)\n",
        "        roll_ball = gray_marker - restoration.rolling_ball(gray_marker)\n",
        "\n",
        "        # Append filtered and converted image to our list\n",
        "        gray_markers.append(gray_marker)\n",
        "\n",
        "    # Stack all grayscale markers into a single array along a new first axis\n",
        "    final_image = np.stack(gray_markers, axis=0)\n",
        "\n",
        "    str_name = str(name)+'.tif'\n",
        "    imwrite(str_name, final_image)\n",
        "    print(\"Generated \"+str_name+\" for \"+filename)\n",
        "\n",
        "    name = name+1"
      ],
      "metadata": {
        "id": "vBdrIu1lSPWU"
      },
      "execution_count": null,
      "outputs": []
    }
  ]
}